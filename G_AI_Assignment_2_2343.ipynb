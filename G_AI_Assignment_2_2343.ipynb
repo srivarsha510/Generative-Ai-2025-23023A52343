{
  "nbformat": 4,
  "nbformat_minor": 0,
  "metadata": {
    "colab": {
      "provenance": [],
      "authorship_tag": "ABX9TyMCCk291JYqrGpd3XWZJzv5",
      "include_colab_link": true
    },
    "kernelspec": {
      "name": "python3",
      "display_name": "Python 3"
    },
    "language_info": {
      "name": "python"
    }
  },
  "cells": [
    {
      "cell_type": "markdown",
      "metadata": {
        "id": "view-in-github",
        "colab_type": "text"
      },
      "source": [
        "<a href=\"https://colab.research.google.com/github/srivarsha510/Generative-Ai-2025-23023A52343/blob/main/G_AI_Assignment_2_2343.ipynb\" target=\"_parent\"><img src=\"https://colab.research.google.com/assets/colab-badge.svg\" alt=\"Open In Colab\"/></a>"
      ]
    },
    {
      "cell_type": "code",
      "source": [
        "from scipy.optimize import linprog\n",
        "\n",
        "c = [-6, -5]\n",
        "\n",
        "A = [\n",
        "    [1, 1],\n",
        "        [3, 2]\n",
        "        ]\n",
        "\n",
        "\n",
        "b = [5, 12]\n",
        "\n",
        "\n",
        "x0_bounds = (0, None)\n",
        "x1_bounds = (0, None)\n",
        "\n",
        "result = linprog(c, A_ub=A, b_ub=b, bounds=[x0_bounds, x1_bounds], method='highs')\n",
        "\n",
        "if result.success:\n",
        "  print(f\"Optimal solution found:\")\n",
        "  print(f\"Units of A to produce: {result.x[0]:.2f}\")\n",
        "  print(f\"Units of B to produce: {result.x[1]:.2f}\")\n",
        "  print(f\"Maximum profit: Rs {-result.fun:.2f}\")\n",
        "\n",
        "else:\n",
        "  print(\"No optimal solution found.\")"
      ],
      "metadata": {
        "id": "Gkxasru9cDzn",
        "colab": {
          "base_uri": "https://localhost:8080/"
        },
        "outputId": "f802d6eb-461f-419f-f6be-ad652b5fb4e1"
      },
      "execution_count": 3,
      "outputs": [
        {
          "output_type": "stream",
          "name": "stdout",
          "text": [
            "Optimal solution found:\n",
            "Units of A to produce: 2.00\n",
            "Units of B to produce: 3.00\n",
            "Maximum profit: Rs 27.00\n"
          ]
        }
      ]
    },
    {
      "cell_type": "code",
      "execution_count": null,
      "metadata": {
        "colab": {
          "base_uri": "https://localhost:8080/"
        },
        "id": "BYDp-OEnMyyb",
        "outputId": "9310890e-b2f7-4c47-ee82-2872e86f03a6"
      },
      "outputs": [
        {
          "output_type": "stream",
          "name": "stdout",
          "text": [
            "Optimal Solution Found!\n",
            "Area allocated to Wheat (x1): 97.89 hectares\n",
            "Area allocated to Barley (x2): 7.37 hectares\n",
            "Maximum Profit: Rs. 12115.79\n"
          ]
        }
      ],
      "source": [
        "from scipy.optimize import linprog\n",
        "\n",
        "c = [-120, -50]\n",
        "\n",
        "A = [\n",
        "    [1, 1],\n",
        "        [7000, 2000],\n",
        "            [10, 30]\n",
        "            ]\n",
        "b = [110, 700000, 1200]\n",
        "\n",
        "x_bounds = (0, None)\n",
        "bounds = [x_bounds, x_bounds]\n",
        "\n",
        "result = linprog(c, A_ub=A, b_ub=b, bounds=bounds, method='highs')\n",
        "\n",
        "if result.success:\n",
        "   print(\"Optimal Solution Found!\")\n",
        "   print(f\"Area allocated to Wheat (x1): {result.x[0]:.2f} hectares\")\n",
        "   print(f\"Area allocated to Barley (x2): {result.x[1]:.2f} hectares\")\n",
        "   print(f\"Maximum Profit: Rs. {-result.fun:.2f}\")\n",
        "else:\n",
        "   print(\"No optimal solution found.\")\n"
      ]
    }
  ]
}